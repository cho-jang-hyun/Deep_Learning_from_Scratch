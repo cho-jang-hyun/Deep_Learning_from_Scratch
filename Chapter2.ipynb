{
 "cells": [
  {
   "cell_type": "markdown",
   "metadata": {},
   "source": [
    "# Chapter 2 퍼셉트론\n",
    "\n",
    "## 2.1 퍼셉트론이란 \n",
    "\n",
    "퍼셉트론: 다수의 신호를 입력으로 받아 하나의 신호를 출력한다\n",
    "\n",
    "여기서 신호는 전류나 강물처럼 흐름이 있는 것으로 간주한다\n",
    "\n",
    "하지만 퍼셉트론 신오는 흐른다/안 흐른다(1과 0)의 두 가지 값을 가진다."
   ]
  },
  {
   "cell_type": "markdown",
   "metadata": {},
   "source": [
    "## 2.2 단순한 논리 회로\n",
    "### 2.2.1 AND 게이트\n",
    "\n",
    "AND 게이트는 두 입력이 모두 1일 때만 1을 출력하고, 그 외에는 0을 출력한다.\n",
    "\n",
    "\n",
    "|x1|x2||y|\n",
    "|------|---||---|\n",
    "|0|0||0|\n",
    "|1|0||0|\n",
    "|0|1||0|\n",
    "|1|1||1|\n",
    "\n",
    "\n",
    "### 2.2.2 NAND 게이트\n",
    "\n",
    "NAND 게이트는 Not AND를 의미한다.<br>\n",
    "NAND 게이트는 두 입력이 모두 1일 때만 0을 출력하고, 그 외에는 1을 출력한다.\n",
    "\n",
    "|x1|x2||y|\n",
    "|------|---||---|\n",
    "|0|0||1|\n",
    "|1|0||1|\n",
    "|0|1||1|\n",
    "|1|1||0|\n",
    "\n",
    "\n",
    "### 2.2.3 OR 게이트\n",
    "\n",
    "OR 게이트는 여러 입력 중 하나라도 1이면 1을 출력한다.\n",
    "\n",
    "|x1|x2||y|\n",
    "|------|---||---|\n",
    "|0|0||0|\n",
    "|1|0||1|\n",
    "|0|1||1|\n",
    "|1|1||1|"
   ]
  },
  {
   "cell_type": "markdown",
   "metadata": {},
   "source": [
    "## 2.3 퍼셉트론 구현\n"
   ]
  },
  {
   "cell_type": "code",
   "execution_count": 10,
   "metadata": {},
   "outputs": [
    {
     "name": "stdout",
     "output_type": "stream",
     "text": [
      "0\n",
      "0\n",
      "0\n",
      "1\n"
     ]
    }
   ],
   "source": [
    "# 2.3.1 퍼셉트론 구현하기\n",
    "\n",
    "def AND(x1, x2):\n",
    "    w1, w2, theta = 0.5, 0.5, 0.7\n",
    "    tmp = x1 * w1 + x2 * w2\n",
    "\n",
    "    if tmp <= theta:\n",
    "        return 0\n",
    "    elif tmp > theta:\n",
    "        return 1\n",
    "\n",
    "print(AND(0,0))\n",
    "print(AND(1,0))\n",
    "print(AND(0,1))\n",
    "print(AND(1,1))"
   ]
  },
  {
   "cell_type": "code",
   "execution_count": 11,
   "metadata": {},
   "outputs": [
    {
     "data": {
      "text/plain": [
       "array([0. , 0.5])"
      ]
     },
     "execution_count": 11,
     "metadata": {},
     "output_type": "execute_result"
    }
   ],
   "source": [
    "#2.3.2 가중치와 편향 도입\n",
    "\n",
    "import numpy as np\n",
    "x = np.array([0,1]) #입력\n",
    "w = np.array([0.5,0.5]) #가중치\n",
    "b = -0.7 #편향\n",
    "\n",
    "x*w #같은 index끼리 곱한다"
   ]
  },
  {
   "cell_type": "code",
   "execution_count": 12,
   "metadata": {},
   "outputs": [
    {
     "data": {
      "text/plain": [
       "0.5"
      ]
     },
     "execution_count": 12,
     "metadata": {},
     "output_type": "execute_result"
    }
   ],
   "source": [
    "np.sum(w*x) #위 결과의 합"
   ]
  },
  {
   "cell_type": "code",
   "execution_count": 13,
   "metadata": {},
   "outputs": [
    {
     "data": {
      "text/plain": [
       "-0.19999999999999996"
      ]
     },
     "execution_count": 13,
     "metadata": {},
     "output_type": "execute_result"
    }
   ],
   "source": [
    "np.sum(w*x) + b #합(0.5)에서 편향(-0.7)더하기: 약 -0.2"
   ]
  },
  {
   "cell_type": "code",
   "execution_count": 14,
   "metadata": {},
   "outputs": [
    {
     "name": "stdout",
     "output_type": "stream",
     "text": [
      "0\n",
      "0\n",
      "0\n",
      "1\n"
     ]
    }
   ],
   "source": [
    "#2.3.3 가중치와 편향 구현하기\n",
    "#AND게이트 구현\n",
    "\n",
    "def AND2(x1, x2):\n",
    "    x = np.array([x1,x2])\n",
    "    w = np.array([0.5,0.5])\n",
    "    b = -0.7\n",
    "    tmp = np.sum(w*x) + b\n",
    "    if tmp <= 0:\n",
    "        return 0\n",
    "    else:\n",
    "        return 1\n",
    "    \n",
    "print(AND2(0,0))\n",
    "print(AND2(1,0))\n",
    "print(AND2(0,1))\n",
    "print(AND2(1,1))"
   ]
  },
  {
   "cell_type": "markdown",
   "metadata": {},
   "source": [
    "가중치(w1, w2): 각 입력 신호가 결과에 주는 영향력을 조절하는 매개변수\n",
    "\n",
    "편향(b): 뉴런이 얼마나 쉽게 활성화 하느냐를 조정하는 매개변수\n",
    "\n"
   ]
  },
  {
   "cell_type": "code",
   "execution_count": 15,
   "metadata": {},
   "outputs": [
    {
     "name": "stdout",
     "output_type": "stream",
     "text": [
      "1\n",
      "1\n",
      "1\n",
      "0\n"
     ]
    }
   ],
   "source": [
    "#NAND게이트 구현\n",
    "def NAND(x1, x2):\n",
    "    x = np.array([x1,x2])\n",
    "    w = np.array([0.5,0.5])\n",
    "    b = -0.7\n",
    "    tmp = np.sum(w*x) + b\n",
    "    if tmp <= 0:\n",
    "        return 1\n",
    "    else:\n",
    "        return 0\n",
    "    \n",
    "\n",
    "print(NAND(0,0))\n",
    "print(NAND(1,0))\n",
    "print(NAND(0,1))\n",
    "print(NAND(1,1))"
   ]
  },
  {
   "cell_type": "code",
   "execution_count": 16,
   "metadata": {},
   "outputs": [
    {
     "name": "stdout",
     "output_type": "stream",
     "text": [
      "0\n",
      "1\n",
      "1\n",
      "1\n"
     ]
    }
   ],
   "source": [
    "#OR게이트 구현\n",
    "def OR(x1, x2):\n",
    "    x = np.array([x1,x2])\n",
    "    w = np.array([0.5,0.5])\n",
    "    b = -0.2\n",
    "    tmp = np.sum(w*x) + b\n",
    "    if tmp <= 0:\n",
    "        return 0\n",
    "    else:\n",
    "        return 1\n",
    "    \n",
    "print(OR(0,0))\n",
    "print(OR(1,0))\n",
    "print(OR(0,1))\n",
    "print(OR(1,1))"
   ]
  },
  {
   "cell_type": "markdown",
   "metadata": {},
   "source": [
    "## 2.4 퍼셉트론의 한계\n",
    "\n",
    "AND, NAND, OR 게이트는 0과 1이 나뉜 영역을 한 직선으로 나눌 수 있다.\n",
    "\n",
    "하지만 XOR 게이트의 경우 이야기가 다르다.\n",
    "\n",
    "XOR 게이트는 여러 입력 중 하나만 1이면 1을 출력한다.\n",
    "\n",
    "|x1|x2||y|\n",
    "|------|---||---|\n",
    "|0|0||0|\n",
    "|1|0||1|\n",
    "|0|1||1|\n",
    "|1|1||0|\n",
    "\n",
    "이 때 (0,0), (1,1)과 (1,0),(0,1)로 나뉘는데 두 그룹으로 나누는 데에 한 직선으로 나눌 수 없는 한계가 있다.<br>\n",
    "그렇기 때문에 선형 영역으로 나누는 것이 아니라 비선형 영역으로 나누면 해결할 수 있다.\n"
   ]
  },
  {
   "cell_type": "markdown",
   "metadata": {},
   "source": [
    "## 2.5 다층 퍼셉트론이 충돌하면\n",
    "\n",
    "퍼셉트론으로 XOR 게이트를 표현할 수 없다<br>\n",
    "그렇기 때문에 층을 쌓아 다층 퍼셉트론을 만들 수 있다\n",
    "\n",
    "### 2.5.1 기존 게이트 조합하기\n",
    "\n",
    "XOR 게이트를 만드는 방법은 다양하다\n",
    "\n",
    "그 중 하나는 AND, NAND, OR 게이트를 조합하는 방법이다.\n",
    "\n",
    "입력 x1, x2를 NAND와 OR 게이트를 통해 출력 s1, s2를 얻고<br>\n",
    "새로운 입력 s1, s2를 AND 게이트를 거쳐 출력한다\n",
    "\n",
    "- s1: NAND 게이트의 결과<br>\n",
    "- s2: OR 게이트의 결과\n",
    "\n",
    "|x1|x2||s1|s2||y|\n",
    "|------|---||---|---||---|\n",
    "|0|0||1|0||0|\n",
    "|1|0||1|1||1|\n",
    "|0|1||1|1||1|\n",
    "|1|1||0|1||0|\n"
   ]
  },
  {
   "cell_type": "code",
   "execution_count": 17,
   "metadata": {},
   "outputs": [
    {
     "name": "stdout",
     "output_type": "stream",
     "text": [
      "0\n",
      "1\n",
      "1\n",
      "0\n"
     ]
    }
   ],
   "source": [
    "#2.5.2 XOR 게이트 구현하기\n",
    "\n",
    "def XOR(x1,x2):\n",
    "    s1 = NAND(x1,x2)\n",
    "    s2 = OR(x1, x2)\n",
    "    y = AND(s1, s2)\n",
    "    return y\n",
    "\n",
    "print(XOR(0,0))\n",
    "print(XOR(1,0))\n",
    "print(XOR(0,1))\n",
    "print(XOR(1,1))"
   ]
  },
  {
   "cell_type": "markdown",
   "metadata": {},
   "source": [
    "x1, x2는 0층<br>\n",
    "s1, s2는 1층<br>\n",
    "y는 2층으로<br>\n",
    "XOR 게이트는 다층 구조의 네트워크라 한다(2층 퍼셉트론)\n",
    "\n",
    "#### 동작 과정\n",
    "- 0층의 두 뉴런이 입력 신호를 받아 1층의 뉴런으로 신호를 보낸다.\n",
    "- 1층의 뉴런이 2층의 뉴런으로 신호를 보내고, 2층의 뉴런은 y를 출력한다.\n",
    "\n",
    "이와 같이 단층 퍼셉트론으로는 표현하지 못한 것을 층을 하나 늘려 구현할 수 있다.\n",
    "\n"
   ]
  },
  {
   "cell_type": "markdown",
   "metadata": {},
   "source": [
    "## 2.6 NAND에서 컴퓨터까지\n",
    "\n",
    "NAND 게이트만으로 컴퓨터를 만들 수 있다.\n",
    "\n",
    "다층 퍼셉트론은 컴퓨터도 만들 정도로 복잡한 표현을 해낸다. \n",
    "\n"
   ]
  },
  {
   "cell_type": "markdown",
   "metadata": {},
   "source": [
    "## 2.7 정리\n",
    "\n",
    "- 퍼셉트론은 입출력을 갖춘 알고리즘이다.\n",
    "- 퍼셉트론에서는 가중치와 편향을 매개변수로 설정한다.\n",
    "- AND, NAND, OR 게이트 등을 논리 회로를 표현할 수 있다.\n",
    "- XOR 게이트는 단층 퍼셉트론으로 표현할 수 없고 2층 퍼셉트론으로 구현할 수 있다\n",
    "- 단층 퍼셉트론은 직선형 영역만 표현할 수 있고, 다층 퍼셉트론은 비선형 영역도 표현할 수 있다.\n"
   ]
  },
  {
   "cell_type": "code",
   "execution_count": null,
   "metadata": {},
   "outputs": [],
   "source": []
  }
 ],
 "metadata": {
  "kernelspec": {
   "display_name": "Python 3",
   "language": "python",
   "name": "python3"
  },
  "language_info": {
   "codemirror_mode": {
    "name": "ipython",
    "version": 3
   },
   "file_extension": ".py",
   "mimetype": "text/x-python",
   "name": "python",
   "nbconvert_exporter": "python",
   "pygments_lexer": "ipython3",
   "version": "3.8.5"
  }
 },
 "nbformat": 4,
 "nbformat_minor": 4
}
